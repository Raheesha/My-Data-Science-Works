{
 "cells": [
  {
   "cell_type": "markdown",
   "metadata": {},
   "source": [
    "<center>\n",
    "    <img src=\"https://cf-courses-data.s3.us.cloud-object-storage.appdomain.cloud/IBMDeveloperSkillsNetwork-DS0105EN-SkillsNetwork/labs/Module2/images/SN_web_lightmode.png\" width=\"300\" alt=\"cognitiveclass.ai logo\"  />\n",
    "</center>"
   ]
  },
  {
   "cell_type": "markdown",
   "metadata": {},
   "source": [
    "# My Jupyter Notebook on IBM Watson Studio"
   ]
  },
  {
   "cell_type": "markdown",
   "metadata": {},
   "source": [
    "**Raheesha Alahakoon** <br> Data Scientist"
   ]
  },
  {
   "cell_type": "markdown",
   "metadata": {},
   "source": [
    "*I am interested in data science because learning it will lead me to help many organizations to the next level with my creative mind. For example in health organizations, I can create models that will identify diseases like cancer in their early stages by recognizing cancer cells from scanned images in the human body and helping doctors make effective treatments to save many lives.*"
   ]
  },
  {
   "cell_type": "markdown",
   "metadata": {},
   "source": [
    "### The Following Code will demonstrate a simple arithmetic operation in Python."
   ]
  },
  {
   "cell_type": "code",
   "execution_count": 4,
   "metadata": {
    "tags": []
   },
   "outputs": [
    {
     "name": "stdout",
     "output_type": "stream",
     "text": [
      "The sum of 2 and 4 is: 6\n"
     ]
    }
   ],
   "source": [
    "x = 2\n",
    "y = 4\n",
    "sum_result = x + y\n",
    "print (\"The sum of\",x,\"and\",y,\"is:\",sum_result)"
   ]
  },
  {
   "cell_type": "markdown",
   "metadata": {},
   "source": [
    "***"
   ]
  },
  {
   "cell_type": "code",
   "execution_count": 8,
   "metadata": {},
   "outputs": [],
   "source": [
    "# Exarmple for a List"
   ]
  },
  {
   "cell_type": "markdown",
   "metadata": {},
   "source": [
    "## Process of Data Analysis\n",
    "\n",
    "1. Collecting\n",
    "2. Transforming\n",
    "3. Cleaning\n",
    "4. Modeling data with the goal of discovering the required information"
   ]
  },
  {
   "cell_type": "code",
   "execution_count": 7,
   "metadata": {},
   "outputs": [],
   "source": [
    "# Exarmple for a table"
   ]
  },
  {
   "cell_type": "markdown",
   "metadata": {},
   "source": [
    "## Global Warming Potential Value\n",
    "\n",
    "|No    |Type          |Chemical Formula|GWP 100-year|\n",
    "|:-----|:------------:|:--------------:|:-----------|\n",
    "|1     |Carbon dioxide|CO<sub>2</sub>  |1           |\n",
    "|2     |Methane       |CH<sub>4</sub>  |28          |\n",
    "|3     |Nitrogen oxide|N<sub>2</sub>O  |265         |\n",
    "|4     |`CFC-11`      |CCL<sub>3</sub>F|4660        | "
   ]
  },
  {
   "cell_type": "markdown",
   "metadata": {},
   "source": [
    "***"
   ]
  },
  {
   "cell_type": "markdown",
   "metadata": {},
   "source": [
    "Created for [Cousera IBM Certification Course](https://www.coursera.org/professional-certificates/ibm-data-science? \"IBM Data Science Professional Certification's Homepage\")."
   ]
  },
  {
   "cell_type": "markdown",
   "metadata": {},
   "source": [
    "![alt text](https://lh3.googleusercontent.com/nzWi3WmYgS3HARszP2muKxgRSarz5542kkgMkOyuIGKKmJiLn7ej9pd-BaAmu-wUen1Yz8MgzOUld5oTcGenCUpV2w=s60 \"Coursera\") "
   ]
  },
  {
   "cell_type": "markdown",
   "metadata": {},
   "source": [
    "***"
   ]
  }
 ],
 "metadata": {
  "kernelspec": {
   "display_name": "Python 3 (ipykernel)",
   "language": "python",
   "name": "python3"
  },
  "language_info": {
   "codemirror_mode": {
    "name": "ipython",
    "version": 3
   },
   "file_extension": ".py",
   "mimetype": "text/x-python",
   "name": "python",
   "nbconvert_exporter": "python",
   "pygments_lexer": "ipython3",
   "version": "3.12.4"
  }
 },
 "nbformat": 4,
 "nbformat_minor": 4
}
